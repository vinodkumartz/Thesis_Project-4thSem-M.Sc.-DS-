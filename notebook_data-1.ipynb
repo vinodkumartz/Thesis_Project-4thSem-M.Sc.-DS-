{
 "cells": [
  {
   "cell_type": "code",
   "execution_count": 28,
   "id": "5241b5d2",
   "metadata": {},
   "outputs": [],
   "source": [
    "import pandas as pd\n",
    "import numpy as np\n",
    "import matplotlib.pyplot as plt\n",
    "import seaborn as sns\n",
    "\n",
    "from sklearn.model_selection import train_test_split\n",
    "from sklearn.preprocessing import StandardScaler\n",
    "from sklearn.metrics import mean_squared_error, mean_absolute_error\n",
    "\n",
    "import tensorflow as tf\n",
    "from tensorflow.keras import layers, models, Input\n",
    "import numpy as np\n",
    "import pandas as pd\n",
    "from sklearn.model_selection import train_test_split\n",
    "from sklearn.metrics import mean_squared_error, mean_absolute_error\n",
    "import matplotlib.pyplot as plt\n",
    "import seaborn as sns\n",
    "from sklearn.preprocessing import StandardScaler\n",
    "import xgboost as xgb"
   ]
  },
  {
   "cell_type": "code",
   "execution_count": null,
   "id": "0d694c02",
   "metadata": {},
   "outputs": [],
   "source": [
    "# Load dataset\n",
    "df = pd.read_csv('D:\\ThesisProject\\data\\database_apartment_train.csv')  \n",
    "df = df.drop(columns=['Unnamed: 0'])  # Drop unnecessary index column\n",
    "# # Load RSSI Dataset\n",
    "# X = pd.read_csv(\"D:\\ThesisProject\\data\\database_apartment_train.csv\")  # Replace with your actual path\n",
    "# Y = pd.read_csv(\"D:\\ThesisProject\\data\\database_apartment_test.csv\")  # Replace with your actual path\n",
    "\n"
   ]
  },
  {
   "cell_type": "code",
   "execution_count": 4,
   "id": "5abbb10e",
   "metadata": {},
   "outputs": [
    {
     "name": "stdout",
     "output_type": "stream",
     "text": [
      "AP2 RTT(mm)     1\n",
      "AP3 RTT(mm)     1\n",
      "AP4 RTT(mm)     1\n",
      "AP5 RTT(mm)     1\n",
      "AP2 RSS(dBm)    1\n",
      "AP3 RSS(dBm)    1\n",
      "AP4 RSS(dBm)    1\n",
      "AP5 RSS(dBm)    1\n",
      "dtype: int64\n"
     ]
    },
    {
     "name": "stderr",
     "output_type": "stream",
     "text": [
      "C:\\Users\\0911a\\AppData\\Local\\Temp\\ipykernel_9668\\70270118.py:1: FutureWarning: DataFrame.applymap has been deprecated. Use DataFrame.map instead.\n",
      "  print(df[X_features].applymap(type).nunique())\n"
     ]
    }
   ],
   "source": [
    "print(df[X_features].applymap(type).nunique())\n"
   ]
  },
  {
   "cell_type": "code",
   "execution_count": 5,
   "id": "030d70c3",
   "metadata": {},
   "outputs": [],
   "source": [
    "for col in X_features:\n",
    "    invalid_rows = df[~df[col].apply(lambda x: isinstance(x, (int, float, np.number)))]\n",
    "    if not invalid_rows.empty:\n",
    "        print(f\"\\nInvalid entries in column: {col}\")\n",
    "        print(invalid_rows[[col]])\n"
   ]
  },
  {
   "cell_type": "code",
   "execution_count": 6,
   "id": "e3c9f799",
   "metadata": {},
   "outputs": [],
   "source": [
    "df=df.drop('LOS APs', axis=1)"
   ]
  },
  {
   "cell_type": "code",
   "execution_count": 7,
   "id": "48427a70",
   "metadata": {},
   "outputs": [
    {
     "data": {
      "text/plain": [
       "Index(['X', 'Y', 'AP2 RTT(mm)', 'AP3 RTT(mm)', 'AP4 RTT(mm)', 'AP5 RTT(mm)',\n",
       "       'AP2 RSS(dBm)', 'AP3 RSS(dBm)', 'AP4 RSS(dBm)', 'AP5 RSS(dBm)'],\n",
       "      dtype='object')"
      ]
     },
     "execution_count": 7,
     "metadata": {},
     "output_type": "execute_result"
    }
   ],
   "source": [
    "df.columns"
   ]
  },
  {
   "cell_type": "code",
   "execution_count": 8,
   "id": "4f08e881",
   "metadata": {},
   "outputs": [
    {
     "data": {
      "text/html": [
       "<div>\n",
       "<style scoped>\n",
       "    .dataframe tbody tr th:only-of-type {\n",
       "        vertical-align: middle;\n",
       "    }\n",
       "\n",
       "    .dataframe tbody tr th {\n",
       "        vertical-align: top;\n",
       "    }\n",
       "\n",
       "    .dataframe thead th {\n",
       "        text-align: right;\n",
       "    }\n",
       "</style>\n",
       "<table border=\"1\" class=\"dataframe\">\n",
       "  <thead>\n",
       "    <tr style=\"text-align: right;\">\n",
       "      <th></th>\n",
       "      <th>X</th>\n",
       "      <th>Y</th>\n",
       "      <th>AP2 RTT(mm)</th>\n",
       "      <th>AP3 RTT(mm)</th>\n",
       "      <th>AP4 RTT(mm)</th>\n",
       "      <th>AP5 RTT(mm)</th>\n",
       "      <th>AP2 RSS(dBm)</th>\n",
       "      <th>AP3 RSS(dBm)</th>\n",
       "      <th>AP4 RSS(dBm)</th>\n",
       "      <th>AP5 RSS(dBm)</th>\n",
       "    </tr>\n",
       "  </thead>\n",
       "  <tbody>\n",
       "    <tr>\n",
       "      <th>0</th>\n",
       "      <td>0</td>\n",
       "      <td>1</td>\n",
       "      <td>2683</td>\n",
       "      <td>5946</td>\n",
       "      <td>10730</td>\n",
       "      <td>6385</td>\n",
       "      <td>-51</td>\n",
       "      <td>-72</td>\n",
       "      <td>-70</td>\n",
       "      <td>-77</td>\n",
       "    </tr>\n",
       "    <tr>\n",
       "      <th>1</th>\n",
       "      <td>0</td>\n",
       "      <td>1</td>\n",
       "      <td>2658</td>\n",
       "      <td>6096</td>\n",
       "      <td>11386</td>\n",
       "      <td>6541</td>\n",
       "      <td>-52</td>\n",
       "      <td>-74</td>\n",
       "      <td>-72</td>\n",
       "      <td>-77</td>\n",
       "    </tr>\n",
       "    <tr>\n",
       "      <th>2</th>\n",
       "      <td>0</td>\n",
       "      <td>1</td>\n",
       "      <td>2906</td>\n",
       "      <td>6129</td>\n",
       "      <td>10676</td>\n",
       "      <td>6888</td>\n",
       "      <td>-52</td>\n",
       "      <td>-74</td>\n",
       "      <td>-70</td>\n",
       "      <td>-77</td>\n",
       "    </tr>\n",
       "    <tr>\n",
       "      <th>3</th>\n",
       "      <td>0</td>\n",
       "      <td>1</td>\n",
       "      <td>2763</td>\n",
       "      <td>5810</td>\n",
       "      <td>10617</td>\n",
       "      <td>6710</td>\n",
       "      <td>-53</td>\n",
       "      <td>-72</td>\n",
       "      <td>-72</td>\n",
       "      <td>-77</td>\n",
       "    </tr>\n",
       "    <tr>\n",
       "      <th>4</th>\n",
       "      <td>0</td>\n",
       "      <td>1</td>\n",
       "      <td>2871</td>\n",
       "      <td>5745</td>\n",
       "      <td>12164</td>\n",
       "      <td>6919</td>\n",
       "      <td>-53</td>\n",
       "      <td>-74</td>\n",
       "      <td>-73</td>\n",
       "      <td>-77</td>\n",
       "    </tr>\n",
       "  </tbody>\n",
       "</table>\n",
       "</div>"
      ],
      "text/plain": [
       "   X  Y  AP2 RTT(mm)  AP3 RTT(mm)  AP4 RTT(mm)  AP5 RTT(mm)  AP2 RSS(dBm)  \\\n",
       "0  0  1         2683         5946        10730         6385           -51   \n",
       "1  0  1         2658         6096        11386         6541           -52   \n",
       "2  0  1         2906         6129        10676         6888           -52   \n",
       "3  0  1         2763         5810        10617         6710           -53   \n",
       "4  0  1         2871         5745        12164         6919           -53   \n",
       "\n",
       "   AP3 RSS(dBm)  AP4 RSS(dBm)  AP5 RSS(dBm)  \n",
       "0           -72           -70           -77  \n",
       "1           -74           -72           -77  \n",
       "2           -74           -70           -77  \n",
       "3           -72           -72           -77  \n",
       "4           -74           -73           -77  "
      ]
     },
     "execution_count": 8,
     "metadata": {},
     "output_type": "execute_result"
    }
   ],
   "source": [
    "df.head()"
   ]
  },
  {
   "cell_type": "code",
   "execution_count": 9,
   "id": "1c204d24",
   "metadata": {},
   "outputs": [
    {
     "name": "stdout",
     "output_type": "stream",
     "text": [
      "<class 'pandas.core.frame.DataFrame'>\n",
      "RangeIndex: 9720 entries, 0 to 9719\n",
      "Data columns (total 10 columns):\n",
      " #   Column        Non-Null Count  Dtype\n",
      "---  ------        --------------  -----\n",
      " 0   X             9720 non-null   int64\n",
      " 1   Y             9720 non-null   int64\n",
      " 2   AP2 RTT(mm)   9720 non-null   int64\n",
      " 3   AP3 RTT(mm)   9720 non-null   int64\n",
      " 4   AP4 RTT(mm)   9720 non-null   int64\n",
      " 5   AP5 RTT(mm)   9720 non-null   int64\n",
      " 6   AP2 RSS(dBm)  9720 non-null   int64\n",
      " 7   AP3 RSS(dBm)  9720 non-null   int64\n",
      " 8   AP4 RSS(dBm)  9720 non-null   int64\n",
      " 9   AP5 RSS(dBm)  9720 non-null   int64\n",
      "dtypes: int64(10)\n",
      "memory usage: 759.5 KB\n"
     ]
    }
   ],
   "source": [
    "df.info()"
   ]
  },
  {
   "cell_type": "code",
   "execution_count": 2,
   "id": "6e012d3d",
   "metadata": {},
   "outputs": [],
   "source": [
    "# Feature and label separation\n",
    "X_features = ['AP2 RTT(mm)', 'AP3 RTT(mm)', 'AP4 RTT(mm)', 'AP5 RTT(mm)', \n",
    "              'AP2 RSS(dBm)', 'AP3 RSS(dBm)', 'AP4 RSS(dBm)', 'AP5 RSS(dBm)']\n",
    "y = df[['X', 'Y']]\n",
    "\n",
    "X = df[X_features].values\n",
    "y = y.values"
   ]
  },
  {
   "cell_type": "code",
   "execution_count": 10,
   "id": "12b34994",
   "metadata": {},
   "outputs": [],
   "source": [
    "# Train-test split\n",
    "X_train, X_test, y_train, y_test = train_test_split(X, y, test_size=0.2, random_state=42)"
   ]
  },
  {
   "cell_type": "code",
   "execution_count": 11,
   "id": "de746c4f",
   "metadata": {},
   "outputs": [],
   "source": [
    "# Feature scaling\n",
    "scaler = StandardScaler()\n",
    "X_train_scaled = scaler.fit_transform(X_train)\n",
    "X_test_scaled = scaler.transform(X_test)\n"
   ]
  },
  {
   "cell_type": "code",
   "execution_count": 12,
   "id": "e9aed0e7",
   "metadata": {},
   "outputs": [],
   "source": [
    "\n",
    "# Reshape for LSTM/TCN/CNN input (samples, time_steps, features)\n",
    "X_train_seq = X_train.reshape((X_train.shape[0], 1, X_train.shape[1]))\n",
    "X_test_seq = X_test.reshape((X_test.shape[0], 1, X_test.shape[1]))\n"
   ]
  },
  {
   "cell_type": "code",
   "execution_count": 21,
   "id": "1f4a8431",
   "metadata": {},
   "outputs": [],
   "source": [
    "from tensorflow.keras import models\n",
    "from tensorflow.keras import layers\n",
    "def build_bilstm():\n",
    "    model = models.Sequential([\n",
    "        layers.Input(shape=(1, X_train.shape[1])),\n",
    "        layers.Bidirectional(layers.LSTM(64, return_sequences=False)),\n",
    "        layers.Dense(32, activation='relu'),\n",
    "        layers.Dense(2)  # X, Y\n",
    "    ])\n",
    "    model.compile(optimizer='adam', loss='mse', metrics=['mae'])\n",
    "    return model\n"
   ]
  },
  {
   "cell_type": "code",
   "execution_count": 22,
   "id": "e5d17359",
   "metadata": {},
   "outputs": [],
   "source": [
    "def build_transformer():\n",
    "    input_layer = Input(shape=(1, X_train.shape[1]))\n",
    "    x = layers.Dense(64)(input_layer)\n",
    "    x = layers.LayerNormalization()(x)\n",
    "    attn_output = layers.MultiHeadAttention(num_heads=4, key_dim=16)(x, x)\n",
    "    x = layers.Add()([x, attn_output])\n",
    "    x = layers.GlobalAveragePooling1D()(x)\n",
    "    x = layers.Dense(32, activation='relu')(x)\n",
    "    output = layers.Dense(2)(x)\n",
    "    model = models.Model(inputs=input_layer, outputs=output)\n",
    "    model.compile(optimizer='adam', loss='mse', metrics=['mae'])\n",
    "    return model\n"
   ]
  },
  {
   "cell_type": "code",
   "execution_count": 23,
   "metadata": {},
   "outputs": [],
   "source": [
    "# !pip install keras-tcn\n",
    "from tcn import TCN\n",
    "\n",
    "def build_tcn():\n",
    "    model = models.Sequential([\n",
    "        TCN(input_shape=(1, X_train.shape[1]), nb_filters=64),\n",
    "        layers.Dense(32, activation='relu'),\n",
    "        layers.Dense(2)\n",
    "    ])\n",
    "    model.compile(optimizer='adam', loss='mse', metrics=['mae'])\n",
    "    return model\n"
   ]
  },
  {
   "cell_type": "code",
   "execution_count": 24,
   "id": "8e23d9c3",
   "metadata": {},
   "outputs": [],
   "source": [
    "def build_cnn_lstm():\n",
    "    model = models.Sequential([\n",
    "        layers.Conv1D(64, kernel_size=1, activation='relu', input_shape=(1, X_train.shape[1])),\n",
    "        layers.MaxPooling1D(pool_size=1),\n",
    "        layers.LSTM(64),\n",
    "        layers.Dense(32, activation='relu'),\n",
    "        layers.Dense(2)\n",
    "    ])\n",
    "    model.compile(optimizer='adam', loss='mse', metrics=['mae'])\n",
    "    return model\n"
   ]
  },
  {
   "cell_type": "code",
   "execution_count": 25,
   "id": "c0ea2fa8",
   "metadata": {},
   "outputs": [],
   "source": [
    "def train_xgboost():\n",
    "    xgb_x = xgb.XGBRegressor()\n",
    "    xgb_y = xgb.XGBRegressor()\n",
    "    xgb_x.fit(X_train, y_train[:, 0])\n",
    "    xgb_y.fit(X_train, y_train[:, 1])\n",
    "    pred_x = xgb_x.predict(X_test)\n",
    "    pred_y = xgb_y.predict(X_test)\n",
    "    return np.column_stack([pred_x, pred_y])\n"
   ]
  },
  {
   "cell_type": "code",
   "execution_count": 26,
   "id": "d55870ea",
   "metadata": {},
   "outputs": [],
   "source": [
    "def build_autoencoder_regression():\n",
    "    input_seq = Input(shape=(1, X_train.shape[1]))\n",
    "    encoded = layers.LSTM(64)(input_seq)\n",
    "    decoded = layers.RepeatVector(1)(encoded)\n",
    "    decoded = layers.LSTM(X_train.shape[1], return_sequences=True)(decoded)\n",
    "    regression = layers.Dense(2)(encoded)\n",
    "    model = models.Model(inputs=input_seq, outputs=regression)\n",
    "    model.compile(optimizer='adam', loss='mse', metrics=['mae'])\n",
    "    return model\n"
   ]
  },
  {
   "cell_type": "code",
   "execution_count": 32,
   "id": "ae398bb3",
   "metadata": {},
   "outputs": [],
   "source": [
    "from sklearn.metrics import r2_score\n"
   ]
  },
  {
   "cell_type": "code",
   "execution_count": 44,
   "id": "85819d73",
   "metadata": {},
   "outputs": [
    {
     "name": "stderr",
     "output_type": "stream",
     "text": [
      "d:\\ThesisProject\\venv\\lib\\site-packages\\keras\\src\\layers\\convolutional\\base_conv.py:107: UserWarning: Do not pass an `input_shape`/`input_dim` argument to a layer. When using Sequential models, prefer using an `Input(shape)` object as the first layer in the model instead.\n",
      "  super().__init__(activity_regularizer=activity_regularizer, **kwargs)\n"
     ]
    },
    {
     "name": "stdout",
     "output_type": "stream",
     "text": [
      "\n",
      "Training BiLSTM...\n",
      "\u001b[1m243/243\u001b[0m \u001b[32m━━━━━━━━━━━━━━━━━━━━\u001b[0m\u001b[37m\u001b[0m \u001b[1m1s\u001b[0m 2ms/step\n",
      "\u001b[1m61/61\u001b[0m \u001b[32m━━━━━━━━━━━━━━━━━━━━\u001b[0m\u001b[37m\u001b[0m \u001b[1m0s\u001b[0m 8ms/step\n",
      "\n",
      "Training Transformer...\n",
      "\u001b[1m243/243\u001b[0m \u001b[32m━━━━━━━━━━━━━━━━━━━━\u001b[0m\u001b[37m\u001b[0m \u001b[1m1s\u001b[0m 2ms/step\n",
      "\u001b[1m61/61\u001b[0m \u001b[32m━━━━━━━━━━━━━━━━━━━━\u001b[0m\u001b[37m\u001b[0m \u001b[1m0s\u001b[0m 5ms/step\n",
      "\n",
      "Training CNN+LSTM...\n",
      "\u001b[1m243/243\u001b[0m \u001b[32m━━━━━━━━━━━━━━━━━━━━\u001b[0m\u001b[37m\u001b[0m \u001b[1m1s\u001b[0m 1ms/step\n",
      "\u001b[1m61/61\u001b[0m \u001b[32m━━━━━━━━━━━━━━━━━━━━\u001b[0m\u001b[37m\u001b[0m \u001b[1m0s\u001b[0m 5ms/step\n",
      "\n",
      "Training Autoencoder...\n",
      "\u001b[1m243/243\u001b[0m \u001b[32m━━━━━━━━━━━━━━━━━━━━\u001b[0m\u001b[37m\u001b[0m \u001b[1m0s\u001b[0m 1ms/step\n",
      "\u001b[1m61/61\u001b[0m \u001b[32m━━━━━━━━━━━━━━━━━━━━\u001b[0m\u001b[37m\u001b[0m \u001b[1m0s\u001b[0m 4ms/step\n"
     ]
    }
   ],
   "source": [
    "models_list = {\n",
    "    'BiLSTM': build_bilstm(),\n",
    "    'Transformer': build_transformer(),\n",
    "    'CNN+LSTM': build_cnn_lstm(),\n",
    "    'Autoencoder': build_autoencoder_regression()\n",
    "}\n",
    "\n",
    "results = []\n",
    "\n",
    "for name, model in models_list.items():\n",
    "    print(f\"\\nTraining {name}...\")\n",
    "    history = model.fit(X_train_seq, y_train, validation_data=(X_test_seq, y_test),\n",
    "                        epochs=20, batch_size=32, verbose=0)\n",
    "\n",
    "    # Predictions\n",
    "    y_train_pred = model.predict(X_train_seq)\n",
    "    y_test_pred = model.predict(X_test_seq)\n",
    "\n",
    "    # Evaluation\n",
    "    loss, mae = model.evaluate(X_test_seq, y_test, verbose=0)\n",
    "    train_loss, train_mae = model.evaluate(X_train_seq, y_train, verbose=0)\n",
    "\n",
    "    # R2 and RMSE\n",
    "    r2_train = r2_score(y_train, y_train_pred)\n",
    "    r2_test = r2_score(y_test, y_test_pred)\n",
    "\n",
    "    rmse_train = np.sqrt(mean_squared_error(y_train, y_train_pred))\n",
    "    rmse_test = np.sqrt(mean_squared_error(y_test, y_test_pred))\n",
    "\n",
    "    results.append({\n",
    "        'Model': name,\n",
    "        'Train Loss': train_loss,\n",
    "        'Test Loss': loss,\n",
    "        'Train MAE': train_mae,\n",
    "        'Test MAE': mae,\n",
    "        'Train R2': r2_train,\n",
    "        'Test R2': r2_test,\n",
    "        'Train RMSE': rmse_train,\n",
    "        'Test RMSE': rmse_test\n",
    "    })\n"
   ]
  },
  {
   "cell_type": "code",
   "execution_count": 45,
   "id": "ff75a059",
   "metadata": {},
   "outputs": [],
   "source": [
    "from sklearn.metrics import mean_squared_error, mean_absolute_error, r2_score\n",
    "import numpy as np\n",
    "import xgboost as xgb\n",
    "\n",
    "def train_xgboost():\n",
    "    model = xgb.XGBRegressor(n_estimators=100, learning_rate=0.1, max_depth=6, random_state=42)\n",
    "    model.fit(X_train, y_train)\n",
    "    return model\n",
    "\n",
    "# Train\n",
    "xgb_model = train_xgboost()\n",
    "\n",
    "# Predictions\n",
    "xgb_train_preds = xgb_model.predict(X_train)\n",
    "xgb_test_preds = xgb_model.predict(X_test)\n",
    "\n",
    "# Train Metrics\n",
    "mse_train_xgb = mean_squared_error(y_train, xgb_train_preds)\n",
    "mae_train_xgb = mean_absolute_error(y_train, xgb_train_preds)\n",
    "r2_train_xgb = r2_score(y_train, xgb_train_preds)\n",
    "rmse_train_xgb = np.sqrt(mse_train_xgb)\n",
    "\n",
    "# Test Metrics\n",
    "mse_test_xgb = mean_squared_error(y_test, xgb_test_preds)\n",
    "mae_test_xgb = mean_absolute_error(y_test, xgb_test_preds)\n",
    "r2_test_xgb = r2_score(y_test, xgb_test_preds)\n",
    "rmse_test_xgb = np.sqrt(mse_test_xgb)\n",
    "\n",
    "# Append to results\n",
    "results.append({\n",
    "    'Model': 'XGBoost',\n",
    "    'Train Loss': mse_train_xgb,\n",
    "    'Test Loss': mse_test_xgb,\n",
    "    'Train MAE': mae_train_xgb,\n",
    "    'Test MAE': mae_test_xgb,\n",
    "    'Train R2': r2_train_xgb,\n",
    "    'Test R2': r2_test_xgb,\n",
    "    'Train RMSE': rmse_train_xgb,\n",
    "    'Test RMSE': rmse_test_xgb\n",
    "})\n"
   ]
  },
  {
   "cell_type": "code",
   "execution_count": 46,
   "id": "13a9b9f4",
   "metadata": {},
   "outputs": [
    {
     "data": {
      "text/html": [
       "<div>\n",
       "<style scoped>\n",
       "    .dataframe tbody tr th:only-of-type {\n",
       "        vertical-align: middle;\n",
       "    }\n",
       "\n",
       "    .dataframe tbody tr th {\n",
       "        vertical-align: top;\n",
       "    }\n",
       "\n",
       "    .dataframe thead th {\n",
       "        text-align: right;\n",
       "    }\n",
       "</style>\n",
       "<table border=\"1\" class=\"dataframe\">\n",
       "  <thead>\n",
       "    <tr style=\"text-align: right;\">\n",
       "      <th></th>\n",
       "      <th>Model</th>\n",
       "      <th>Train Loss</th>\n",
       "      <th>Test Loss</th>\n",
       "      <th>Train MAE</th>\n",
       "      <th>Test MAE</th>\n",
       "      <th>Train R2</th>\n",
       "      <th>Test R2</th>\n",
       "      <th>Train RMSE</th>\n",
       "      <th>Test RMSE</th>\n",
       "    </tr>\n",
       "  </thead>\n",
       "  <tbody>\n",
       "    <tr>\n",
       "      <th>0</th>\n",
       "      <td>BiLSTM</td>\n",
       "      <td>1.9755</td>\n",
       "      <td>1.8564</td>\n",
       "      <td>1.0202</td>\n",
       "      <td>0.9918</td>\n",
       "      <td>0.9001</td>\n",
       "      <td>0.9051</td>\n",
       "      <td>1.4055</td>\n",
       "      <td>1.3625</td>\n",
       "    </tr>\n",
       "    <tr>\n",
       "      <th>1</th>\n",
       "      <td>Transformer</td>\n",
       "      <td>1.3964</td>\n",
       "      <td>1.3478</td>\n",
       "      <td>0.8309</td>\n",
       "      <td>0.8180</td>\n",
       "      <td>0.9301</td>\n",
       "      <td>0.9319</td>\n",
       "      <td>1.1817</td>\n",
       "      <td>1.1609</td>\n",
       "    </tr>\n",
       "    <tr>\n",
       "      <th>2</th>\n",
       "      <td>CNN+LSTM</td>\n",
       "      <td>2.9160</td>\n",
       "      <td>2.7786</td>\n",
       "      <td>1.2380</td>\n",
       "      <td>1.2097</td>\n",
       "      <td>0.8496</td>\n",
       "      <td>0.8547</td>\n",
       "      <td>1.7076</td>\n",
       "      <td>1.6669</td>\n",
       "    </tr>\n",
       "    <tr>\n",
       "      <th>3</th>\n",
       "      <td>Autoencoder</td>\n",
       "      <td>2.6174</td>\n",
       "      <td>2.5181</td>\n",
       "      <td>1.1914</td>\n",
       "      <td>1.1664</td>\n",
       "      <td>0.8687</td>\n",
       "      <td>0.8727</td>\n",
       "      <td>1.6178</td>\n",
       "      <td>1.5869</td>\n",
       "    </tr>\n",
       "    <tr>\n",
       "      <th>4</th>\n",
       "      <td>XGBoost</td>\n",
       "      <td>0.0260</td>\n",
       "      <td>0.0907</td>\n",
       "      <td>0.0900</td>\n",
       "      <td>0.1299</td>\n",
       "      <td>0.9987</td>\n",
       "      <td>0.9953</td>\n",
       "      <td>0.1613</td>\n",
       "      <td>0.3012</td>\n",
       "    </tr>\n",
       "  </tbody>\n",
       "</table>\n",
       "</div>"
      ],
      "text/plain": [
       "         Model  Train Loss  Test Loss  Train MAE  Test MAE  Train R2  Test R2  \\\n",
       "0       BiLSTM      1.9755     1.8564     1.0202    0.9918    0.9001   0.9051   \n",
       "1  Transformer      1.3964     1.3478     0.8309    0.8180    0.9301   0.9319   \n",
       "2     CNN+LSTM      2.9160     2.7786     1.2380    1.2097    0.8496   0.8547   \n",
       "3  Autoencoder      2.6174     2.5181     1.1914    1.1664    0.8687   0.8727   \n",
       "4      XGBoost      0.0260     0.0907     0.0900    0.1299    0.9987   0.9953   \n",
       "\n",
       "   Train RMSE  Test RMSE  \n",
       "0      1.4055     1.3625  \n",
       "1      1.1817     1.1609  \n",
       "2      1.7076     1.6669  \n",
       "3      1.6178     1.5869  \n",
       "4      0.1613     0.3012  "
      ]
     },
     "execution_count": 46,
     "metadata": {},
     "output_type": "execute_result"
    }
   ],
   "source": [
    "pd.DataFrame(results).round(4)\n",
    "\n",
    "\n"
   ]
  },
  {
   "cell_type": "code",
   "execution_count": 50,
   "id": "b54469b4",
   "metadata": {},
   "outputs": [
    {
     "data": {
      "image/png": "[encoded data removed]",
      "text/plain": [
       "<Figure size 1000x500 with 1 Axes>"
      ]
     },
     "metadata": {},
     "output_type": "display_data"
    },
    {
     "data": {
      "image/png": "[encoded data removed]",
      "text/plain": [
       "<Figure size 1000x500 with 1 Axes>"
      ]
     },
     "metadata": {},
     "output_type": "display_data"
    },
    {
     "data": {
      "image/png": "[encoded data removed]",
      "text/plain": [
       "<Figure size 1000x500 with 1 Axes>"
      ]
     },
     "metadata": {},
     "output_type": "display_data"
    },
    {
     "data": {
      "image/png": "[encoded data removed]",
      "text/plain": [
       "<Figure size 1000x500 with 1 Axes>"
      ]
     },
     "metadata": {},
     "output_type": "display_data"
    }
   ],
   "source": [
    "import matplotlib.pyplot as plt\n",
    "import seaborn as sns\n",
    "import pandas as pd\n",
    "\n",
    "# Convert to DataFrame if not already\n",
    "results_df = pd.DataFrame(results)\n",
    "\n",
    "# Round for cleaner display\n",
    "results_df_rounded = results_df.round(4)\n",
    "\n",
    "# Plot function\n",
    "def plot_metric_pair(df, train_metric, test_metric, title):\n",
    "    melted_df = df[['Model', train_metric, test_metric]].melt(id_vars='Model', var_name='Dataset', value_name='Value')\n",
    "\n",
    "    plt.figure(figsize=(10, 5))\n",
    "    sns.barplot(data=melted_df, x='Model', y='Value', hue='Dataset')\n",
    "    plt.title(title)\n",
    "    plt.xticks(rotation=45)\n",
    "    plt.tight_layout()\n",
    "    plt.grid(True)\n",
    "    plt.show()\n",
    "\n",
    "# 🔢 Plotting all relevant metric pairs\n",
    "plot_metric_pair(results_df_rounded, 'Train Loss', 'Test Loss', 'Train vs Test Loss')\n",
    "plot_metric_pair(results_df_rounded, 'Train MAE', 'Test MAE', 'Train vs Test MAE')\n",
    "plot_metric_pair(results_df_rounded, 'Train RMSE', 'Test RMSE', 'Train vs Test RMSE')\n",
    "plot_metric_pair(results_df_rounded, 'Train R2', 'Test R2', 'Train vs Test R² Score')\n"
   ]
  },
  {
   "cell_type": "code",
   "execution_count": null,
   "id": "845170f7",
   "metadata": {},
   "outputs": [],
   "source": []
  }
 ],
 "metadata": {
  "kernelspec": {
   "display_name": "venv",
   "language": "python",
   "name": "python3"
  },
  "language_info": {
   "codemirror_mode": {
    "name": "ipython",
    "version": 3
   },
   "file_extension": ".py",
   "mimetype": "text/x-python",
   "name": "python",
   "nbconvert_exporter": "python",
   "pygments_lexer": "ipython3",
   "version": "3.10.7"
  }
 },
 "nbformat": 4,
 "nbformat_minor": 5
}
