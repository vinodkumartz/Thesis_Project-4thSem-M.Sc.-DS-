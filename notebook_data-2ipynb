{
 "cells": [
  {
   "cell_type": "code",
   "execution_count": 1,
   "id": "be1f9999",
   "metadata": {},
   "outputs": [],
   "source": [
    "import pandas as pd\n",
    "import numpy as np\n",
    "import matplotlib.pyplot as plt\n",
    "import seaborn as sns\n",
    "\n",
    "from sklearn.model_selection import train_test_split\n",
    "from sklearn.preprocessing import StandardScaler\n",
    "from sklearn.metrics import mean_squared_error, mean_absolute_error\n",
    "\n",
    "import tensorflow as tf\n",
    "from tensorflow.keras import layers, models, Input\n",
    "import numpy as np\n",
    "import pandas as pd\n",
    "from sklearn.model_selection import train_test_split\n",
    "from sklearn.metrics import mean_squared_error, mean_absolute_error\n",
    "import matplotlib.pyplot as plt\n",
    "import seaborn as sns\n",
    "from sklearn.preprocessing import StandardScaler\n",
    "import xgboost as xgb"
   ]
  },
  {
   "cell_type": "code",
   "execution_count": 19,
   "id": "aa6cd3a5",
   "metadata": {},
   "outputs": [],
   "source": [
    "df= pd.read_csv('D:\\THESIS WORK(indoorcoverage)\\ThesisProject\\data\\data-2\\data2.csv')\n"
   ]
  },
  {
   "cell_type": "code",
   "execution_count": 20,
   "id": "1a7c1cfa",
   "metadata": {},
   "outputs": [
    {
     "data": {
      "text/html": [
       "<div>\n",
       "<style scoped>\n",
       "    .dataframe tbody tr th:only-of-type {\n",
       "        vertical-align: middle;\n",
       "    }\n",
       "\n",
       "    .dataframe tbody tr th {\n",
       "        vertical-align: top;\n",
       "    }\n",
       "\n",
       "    .dataframe thead th {\n",
       "        text-align: right;\n",
       "    }\n",
       "</style>\n",
       "<table border=\"1\" class=\"dataframe\">\n",
       "  <thead>\n",
       "    <tr style=\"text-align: right;\">\n",
       "      <th></th>\n",
       "      <th>X</th>\n",
       "      <th>Y</th>\n",
       "      <th>Z</th>\n",
       "      <th>AP1</th>\n",
       "      <th>AP2</th>\n",
       "      <th>AP3</th>\n",
       "      <th>AP4</th>\n",
       "      <th>AP5</th>\n",
       "      <th>AP6</th>\n",
       "      <th>AP7</th>\n",
       "      <th>...</th>\n",
       "      <th>AP480</th>\n",
       "      <th>AP481</th>\n",
       "      <th>AP482</th>\n",
       "      <th>AP483</th>\n",
       "      <th>AP484</th>\n",
       "      <th>AP485</th>\n",
       "      <th>AP486</th>\n",
       "      <th>AP487</th>\n",
       "      <th>AP488</th>\n",
       "      <th>AP489</th>\n",
       "    </tr>\n",
       "  </thead>\n",
       "  <tbody>\n",
       "    <tr>\n",
       "      <th>0</th>\n",
       "      <td>172.94</td>\n",
       "      <td>72.043</td>\n",
       "      <td>0.0</td>\n",
       "      <td>100.0</td>\n",
       "      <td>100.0</td>\n",
       "      <td>100</td>\n",
       "      <td>100.0</td>\n",
       "      <td>100.0</td>\n",
       "      <td>100.0</td>\n",
       "      <td>100.0</td>\n",
       "      <td>...</td>\n",
       "      <td>100.0</td>\n",
       "      <td>100.0</td>\n",
       "      <td>100.0</td>\n",
       "      <td>100.0</td>\n",
       "      <td>100.0</td>\n",
       "      <td>100.0</td>\n",
       "      <td>100.0</td>\n",
       "      <td>100.0</td>\n",
       "      <td>100.0</td>\n",
       "      <td>100.0</td>\n",
       "    </tr>\n",
       "    <tr>\n",
       "      <th>1</th>\n",
       "      <td>172.94</td>\n",
       "      <td>77.043</td>\n",
       "      <td>0.0</td>\n",
       "      <td>100.0</td>\n",
       "      <td>100.0</td>\n",
       "      <td>100</td>\n",
       "      <td>100.0</td>\n",
       "      <td>100.0</td>\n",
       "      <td>100.0</td>\n",
       "      <td>100.0</td>\n",
       "      <td>...</td>\n",
       "      <td>100.0</td>\n",
       "      <td>100.0</td>\n",
       "      <td>100.0</td>\n",
       "      <td>100.0</td>\n",
       "      <td>100.0</td>\n",
       "      <td>100.0</td>\n",
       "      <td>100.0</td>\n",
       "      <td>100.0</td>\n",
       "      <td>100.0</td>\n",
       "      <td>100.0</td>\n",
       "    </tr>\n",
       "    <tr>\n",
       "      <th>2</th>\n",
       "      <td>167.94</td>\n",
       "      <td>77.043</td>\n",
       "      <td>0.0</td>\n",
       "      <td>100.0</td>\n",
       "      <td>100.0</td>\n",
       "      <td>100</td>\n",
       "      <td>100.0</td>\n",
       "      <td>100.0</td>\n",
       "      <td>100.0</td>\n",
       "      <td>100.0</td>\n",
       "      <td>...</td>\n",
       "      <td>100.0</td>\n",
       "      <td>100.0</td>\n",
       "      <td>100.0</td>\n",
       "      <td>100.0</td>\n",
       "      <td>100.0</td>\n",
       "      <td>100.0</td>\n",
       "      <td>100.0</td>\n",
       "      <td>100.0</td>\n",
       "      <td>100.0</td>\n",
       "      <td>100.0</td>\n",
       "    </tr>\n",
       "    <tr>\n",
       "      <th>3</th>\n",
       "      <td>167.94</td>\n",
       "      <td>82.043</td>\n",
       "      <td>0.0</td>\n",
       "      <td>100.0</td>\n",
       "      <td>100.0</td>\n",
       "      <td>100</td>\n",
       "      <td>100.0</td>\n",
       "      <td>100.0</td>\n",
       "      <td>100.0</td>\n",
       "      <td>100.0</td>\n",
       "      <td>...</td>\n",
       "      <td>100.0</td>\n",
       "      <td>100.0</td>\n",
       "      <td>100.0</td>\n",
       "      <td>100.0</td>\n",
       "      <td>100.0</td>\n",
       "      <td>100.0</td>\n",
       "      <td>100.0</td>\n",
       "      <td>100.0</td>\n",
       "      <td>100.0</td>\n",
       "      <td>100.0</td>\n",
       "    </tr>\n",
       "    <tr>\n",
       "      <th>4</th>\n",
       "      <td>167.94</td>\n",
       "      <td>87.043</td>\n",
       "      <td>0.0</td>\n",
       "      <td>100.0</td>\n",
       "      <td>100.0</td>\n",
       "      <td>100</td>\n",
       "      <td>100.0</td>\n",
       "      <td>100.0</td>\n",
       "      <td>100.0</td>\n",
       "      <td>100.0</td>\n",
       "      <td>...</td>\n",
       "      <td>100.0</td>\n",
       "      <td>100.0</td>\n",
       "      <td>100.0</td>\n",
       "      <td>100.0</td>\n",
       "      <td>100.0</td>\n",
       "      <td>100.0</td>\n",
       "      <td>100.0</td>\n",
       "      <td>100.0</td>\n",
       "      <td>100.0</td>\n",
       "      <td>100.0</td>\n",
       "    </tr>\n",
       "  </tbody>\n",
       "</table>\n",
       "<p>5 rows × 492 columns</p>\n",
       "</div>"
      ],
      "text/plain": [
       "        X       Y    Z    AP1    AP2  AP3    AP4    AP5    AP6    AP7  ...  \\\n",
       "0  172.94  72.043  0.0  100.0  100.0  100  100.0  100.0  100.0  100.0  ...   \n",
       "1  172.94  77.043  0.0  100.0  100.0  100  100.0  100.0  100.0  100.0  ...   \n",
       "2  167.94  77.043  0.0  100.0  100.0  100  100.0  100.0  100.0  100.0  ...   \n",
       "3  167.94  82.043  0.0  100.0  100.0  100  100.0  100.0  100.0  100.0  ...   \n",
       "4  167.94  87.043  0.0  100.0  100.0  100  100.0  100.0  100.0  100.0  ...   \n",
       "\n",
       "   AP480  AP481  AP482  AP483  AP484  AP485  AP486  AP487  AP488  AP489  \n",
       "0  100.0  100.0  100.0  100.0  100.0  100.0  100.0  100.0  100.0  100.0  \n",
       "1  100.0  100.0  100.0  100.0  100.0  100.0  100.0  100.0  100.0  100.0  \n",
       "2  100.0  100.0  100.0  100.0  100.0  100.0  100.0  100.0  100.0  100.0  \n",
       "3  100.0  100.0  100.0  100.0  100.0  100.0  100.0  100.0  100.0  100.0  \n",
       "4  100.0  100.0  100.0  100.0  100.0  100.0  100.0  100.0  100.0  100.0  \n",
       "\n",
       "[5 rows x 492 columns]"
      ]
     },
     "execution_count": 20,
     "metadata": {},
     "output_type": "execute_result"
    }
   ],
   "source": [
    "df.head()"
   ]
  },
  {
   "cell_type": "code",
   "execution_count": 21,
   "id": "5bb38045",
   "metadata": {},
   "outputs": [
    {
     "data": {
      "text/plain": [
       "Index(['X', 'Y', 'Z', 'AP1', 'AP2', 'AP3', 'AP4', 'AP5', 'AP6', 'AP7',\n",
       "       ...\n",
       "       'AP480', 'AP481', 'AP482', 'AP483', 'AP484', 'AP485', 'AP486', 'AP487',\n",
       "       'AP488', 'AP489'],\n",
       "      dtype='object', length=492)"
      ]
     },
     "execution_count": 21,
     "metadata": {},
     "output_type": "execute_result"
    }
   ],
   "source": [
    "df.columns"
   ]
  },
  {
   "cell_type": "code",
   "execution_count": 23,
   "id": "55a242d0",
   "metadata": {},
   "outputs": [
    {
     "name": "stdout",
     "output_type": "stream",
     "text": [
      "<class 'pandas.core.frame.DataFrame'>\n",
      "RangeIndex: 1428 entries, 0 to 1427\n",
      "Columns: 492 entries, X to AP489\n",
      "dtypes: float64(447), int64(45)\n",
      "memory usage: 5.4 MB\n"
     ]
    }
   ],
   "source": [
    "df.info()"
   ]
  },
  {
   "cell_type": "code",
   "execution_count": 24,
   "id": "7403b0c9",
   "metadata": {},
   "outputs": [],
   "source": [
    "X = df.drop(columns=['X', 'Y', 'Z'])\n",
    "y = df[['X', 'Y', 'Z']]"
   ]
  },
  {
   "cell_type": "code",
   "execution_count": 49,
   "id": "ce65a04c",
   "metadata": {},
   "outputs": [],
   "source": [
    "# Train-test split\n",
    "X_train, X_test, y_train, y_test = train_test_split(X, y, test_size=0.2, random_state=42)"
   ]
  },
  {
   "cell_type": "code",
   "execution_count": 50,
   "id": "deba4262",
   "metadata": {},
   "outputs": [
    {
     "name": "stdout",
     "output_type": "stream",
     "text": [
      "X_train shape: (1142, 489)\n",
      "y_train shape: (1142, 3)\n",
      "X_test shape: (286, 489)\n",
      "y_test shape: (286, 3)\n"
     ]
    }
   ],
   "source": [
    "# Check the shapes\n",
    "print(\"X_train shape:\", X_train.shape)\n",
    "print(\"y_train shape:\", y_train.shape)\n",
    "print(\"X_test shape:\", X_test.shape)\n",
    "print(\"y_test shape:\", y_test.shape)"
   ]
  },
  {
   "cell_type": "code",
   "execution_count": null,
   "id": "b27e4b05",
   "metadata": {},
   "outputs": [],
   "source": [
    "# Feature scaling\n",
    "scaler = StandardScaler()\n",
    "X_train_scaled = scaler.fit_transform(X_train)\n",
    "X_test_scaled = scaler.transform(X_test)"
   ]
  },
  {
   "cell_type": "code",
   "execution_count": null,
   "id": "8bb238ad",
   "metadata": {},
   "outputs": [],
   "source": [
    "# Convert DataFrame to NumPy array and reshape for LSTM/TCN/CNN input\n",
    "X_train_seq = X_train.values.reshape((X_train.shape[0], 1, X_train.shape[1]))\n",
    "X_test_seq = X_test.values.reshape((X_test.shape[0], 1, X_test.shape[1]))"
   ]
  },
  {
   "cell_type": "code",
   "execution_count": null,
   "id": "975e8ed2",
   "metadata": {},
   "outputs": [
    {
     "name": "stdout",
     "output_type": "stream",
     "text": [
      "X_train shape: (1142, 489)\n",
      "y_train shape: (1142, 3)\n"
     ]
    }
   ],
   "source": [
    "print(\"X_train shape:\", X_train.shape)  # Should be (samples, 1, features)\n",
    "print(\"y_train shape:\", y_train.shape)  # Should be (samples, 3)"
   ]
  },
  {
   "cell_type": "code",
   "execution_count": 54,
   "metadata": {},
   "outputs": [],
   "source": [
    "from tensorflow.keras import models\n",
    "from tensorflow.keras import layers\n",
    "def build_bilstm():\n",
    "    model = models.Sequential([\n",
    "        layers.Input(shape=(1, X_train.shape[1])),\n",
    "        layers.Bidirectional(layers.LSTM(64, return_sequences=False)),\n",
    "        layers.Dense(32, activation='relu'),\n",
    "        layers.Dense(3)  # X, Y\n",
    "    ])\n",
    "    model.compile(optimizer='adam', loss='mse', metrics=['mae'])\n",
    "    return model"
   ]
  },
  {
   "cell_type": "code",
   "execution_count": 55,
   "id": "d4da29a9",
   "metadata": {},
   "outputs": [],
   "source": [
    "def build_transformer():\n",
    "    input_layer = Input(shape=(1, X_train.shape[1]))\n",
    "    x = layers.Dense(64)(input_layer)\n",
    "    x = layers.LayerNormalization()(x)\n",
    "    attn_output = layers.MultiHeadAttention(num_heads=4, key_dim=16)(x, x)\n",
    "    x = layers.Add()([x, attn_output])\n",
    "    x = layers.GlobalAveragePooling1D()(x)\n",
    "    x = layers.Dense(32, activation='relu')(x)\n",
    "    output = layers.Dense(3)(x)\n",
    "    model = models.Model(inputs=input_layer, outputs=output)\n",
    "    model.compile(optimizer='adam', loss='mse', metrics=['mae'])\n",
    "    return model\n"
   ]
  },
  {
   "cell_type": "code",
   "execution_count": 56,
   "id": "6ede345e",
   "metadata": {},
   "outputs": [],
   "source": [
    "# !pip install keras-tcn\n",
    "from tcn import TCN\n",
    "\n",
    "def build_tcn():\n",
    "    model = models.Sequential([\n",
    "        TCN(input_shape=(1, X_train.shape[1]), nb_filters=64),\n",
    "        layers.Dense(32, activation='relu'),\n",
    "        layers.Dense(3)\n",
    "    ])\n",
    "    model.compile(optimizer='adam', loss='mse', metrics=['mae'])\n",
    "    return model\n"
   ]
  },
  {
   "cell_type": "code",
   "execution_count": 58,
   "metadata": {},
   "outputs": [],
   "source": [
    "def build_cnn_lstm():\n",
    "    model = models.Sequential([\n",
    "        layers.Conv1D(64, kernel_size=1, activation='relu', input_shape=(1, X_train.shape[1])),\n",
    "        layers.MaxPooling1D(pool_size=1),\n",
    "        layers.LSTM(64),\n",
    "        layers.Dense(32, activation='relu'),\n",
    "        layers.Dense(3)\n",
    "    ])\n",
    "    model.compile(optimizer='adam', loss='mse', metrics=['mae'])\n",
    "    return model\n"
   ]
  },
  {
   "cell_type": "code",
   "execution_count": 59,
   "id": "db4f633d",
   "metadata": {},
   "outputs": [],
   "source": [
    "def train_xgboost():\n",
    "    xgb_x = xgb.XGBRegressor()\n",
    "    xgb_y = xgb.XGBRegressor()\n",
    "    xgb_x.fit(X_train, y_train[:, 0])\n",
    "    xgb_y.fit(X_train, y_train[:, 1])\n",
    "    pred_x = xgb_x.predict(X_test)\n",
    "    pred_y = xgb_y.predict(X_test)\n",
    "    return np.column_stack([pred_x, pred_y])\n"
   ]
  },
  {
   "cell_type": "code",
   "execution_count": 60,
   "id": "8179ca3b",
   "metadata": {},
   "outputs": [],
   "source": [
    "def build_autoencoder_regression():\n",
    "    input_seq = Input(shape=(1, X_train.shape[1]))\n",
    "    encoded = layers.LSTM(64)(input_seq)\n",
    "    decoded = layers.RepeatVector(1)(encoded)\n",
    "    decoded = layers.LSTM(X_train.shape[1], return_sequences=True)(decoded)\n",
    "    regression = layers.Dense(3)(encoded)\n",
    "    model = models.Model(inputs=input_seq, outputs=regression)\n",
    "    model.compile(optimizer='adam', loss='mse', metrics=['mae'])\n",
    "    return model\n"
   ]
  },
  {
   "cell_type": "code",
   "execution_count": 61,
   "id": "00be8e08",
   "metadata": {},
   "outputs": [
    {
     "name": "stderr",
     "output_type": "stream",
     "text": [
      "d:\\THESIS WORK(indoorcoverage)\\ThesisProject\\venv\\lib\\site-packages\\keras\\src\\layers\\convolutional\\base_conv.py:107: UserWarning: Do not pass an `input_shape`/`input_dim` argument to a layer. When using Sequential models, prefer using an `Input(shape)` object as the first layer in the model instead.\n",
      "  super().__init__(activity_regularizer=activity_regularizer, **kwargs)\n"
     ]
    },
    {
     "name": "stdout",
     "output_type": "stream",
     "text": [
      "\n",
      "Training BiLSTM...\n",
      "\u001b[1m36/36\u001b[0m \u001b[32m━━━━━━━━━━━━━━━━━━━━\u001b[0m\u001b[37m\u001b[0m \u001b[1m1s\u001b[0m 20ms/step\n",
      "\u001b[1m9/9\u001b[0m \u001b[32m━━━━━━━━━━━━━━━━━━━━\u001b[0m\u001b[37m\u001b[0m \u001b[1m0s\u001b[0m 21ms/step\n",
      "\n",
      "Training Transformer...\n",
      "\u001b[1m36/36\u001b[0m \u001b[32m━━━━━━━━━━━━━━━━━━━━\u001b[0m\u001b[37m\u001b[0m \u001b[1m1s\u001b[0m 11ms/step\n",
      "\u001b[1m9/9\u001b[0m \u001b[32m━━━━━━━━━━━━━━━━━━━━\u001b[0m\u001b[37m\u001b[0m \u001b[1m0s\u001b[0m 12ms/step\n",
      "\n",
      "Training CNN+LSTM...\n",
      "\u001b[1m36/36\u001b[0m \u001b[32m━━━━━━━━━━━━━━━━━━━━\u001b[0m\u001b[37m\u001b[0m \u001b[1m1s\u001b[0m 13ms/step\n",
      "\u001b[1m9/9\u001b[0m \u001b[32m━━━━━━━━━━━━━━━━━━━━\u001b[0m\u001b[37m\u001b[0m \u001b[1m0s\u001b[0m 8ms/step \n",
      "\n",
      "Training Autoencoder...\n",
      "\u001b[1m36/36\u001b[0m \u001b[32m━━━━━━━━━━━━━━━━━━━━\u001b[0m\u001b[37m\u001b[0m \u001b[1m1s\u001b[0m 12ms/step\n",
      "\u001b[1m9/9\u001b[0m \u001b[32m━━━━━━━━━━━━━━━━━━━━\u001b[0m\u001b[37m\u001b[0m \u001b[1m0s\u001b[0m 8ms/step \n"
     ]
    }
   ],
   "source": [
    "from sklearn.metrics import r2_score\n",
    "models_list = {\n",
    "    'BiLSTM': build_bilstm(),\n",
    "    'Transformer': build_transformer(),\n",
    "    'CNN+LSTM': build_cnn_lstm(),\n",
    "    'Autoencoder': build_autoencoder_regression()\n",
    "}\n",
    "\n",
    "results = []\n",
    "\n",
    "for name, model in models_list.items():\n",
    "    print(f\"\\nTraining {name}...\")\n",
    "    history = model.fit(X_train_seq, y_train, validation_data=(X_test_seq, y_test),\n",
    "                        epochs=20, batch_size=32, verbose=0)\n",
    "\n",
    "    # Predictions\n",
    "    y_train_pred = model.predict(X_train_seq)\n",
    "    y_test_pred = model.predict(X_test_seq)\n",
    "\n",
    "    # Evaluation\n",
    "    loss, mae = model.evaluate(X_test_seq, y_test, verbose=0)\n",
    "    train_loss, train_mae = model.evaluate(X_train_seq, y_train, verbose=0)\n",
    "\n",
    "    # R2 and RMSE\n",
    "    r2_train = r2_score(y_train, y_train_pred)\n",
    "    r2_test = r2_score(y_test, y_test_pred)\n",
    "\n",
    "    rmse_train = np.sqrt(mean_squared_error(y_train, y_train_pred))\n",
    "    rmse_test = np.sqrt(mean_squared_error(y_test, y_test_pred))\n",
    "\n",
    "    results.append({\n",
    "        'Model': name,\n",
    "        'Train Loss': train_loss,\n",
    "        'Test Loss': loss,\n",
    "        'Train MAE': train_mae,\n",
    "        'Test MAE': mae,\n",
    "        'Train R2': r2_train,\n",
    "        'Test R2': r2_test,\n",
    "        'Train RMSE': rmse_train,\n",
    "        'Test RMSE': rmse_test\n",
    "    })\n"
   ]
  },
  {
   "cell_type": "code",
   "execution_count": 62,
   "metadata": {},
   "outputs": [],
   "source": [
    "from sklearn.metrics import mean_squared_error, mean_absolute_error, r2_score\n",
    "import numpy as np\n",
    "import xgboost as xgb\n",
    "\n",
    "def train_xgboost():\n",
    "    model = xgb.XGBRegressor(n_estimators=100, learning_rate=0.1, max_depth=6, random_state=42)\n",
    "    model.fit(X_train, y_train)\n",
    "    return model\n",
    "\n",
    "# Train\n",
    "xgb_model = train_xgboost()\n",
    "\n",
    "# Predictions\n",
    "xgb_train_preds = xgb_model.predict(X_train)\n",
    "xgb_test_preds = xgb_model.predict(X_test)\n",
    "\n",
    "# Train Metrics\n",
    "mse_train_xgb = mean_squared_error(y_train, xgb_train_preds)\n",
    "mae_train_xgb = mean_absolute_error(y_train, xgb_train_preds)\n",
    "r2_train_xgb = r2_score(y_train, xgb_train_preds)\n",
    "rmse_train_xgb = np.sqrt(mse_train_xgb)\n",
    "\n",
    "# Test Metrics\n",
    "mse_test_xgb = mean_squared_error(y_test, xgb_test_preds)\n",
    "mae_test_xgb = mean_absolute_error(y_test, xgb_test_preds)\n",
    "r2_test_xgb = r2_score(y_test, xgb_test_preds)\n",
    "rmse_test_xgb = np.sqrt(mse_test_xgb)\n",
    "\n",
    "# Append to results\n",
    "results.append({\n",
    "    'Model': 'XGBoost',\n",
    "    'Train Loss': mse_train_xgb,\n",
    "    'Test Loss': mse_test_xgb,\n",
    "    'Train MAE': mae_train_xgb,\n",
    "    'Test MAE': mae_test_xgb,\n",
    "    'Train R2': r2_train_xgb,\n",
    "    'Test R2': r2_test_xgb,\n",
    "    'Train RMSE': rmse_train_xgb,\n",
    "    'Test RMSE': rmse_test_xgb\n",
    "})\n"
   ]
  },
  {
   "cell_type": "code",
   "execution_count": 64,
   "id": "5114b174",
   "metadata": {},
   "outputs": [
    {
     "data": {
      "text/html": [
       "<div>\n",
       "<style scoped>\n",
       "    .dataframe tbody tr th:only-of-type {\n",
       "        vertical-align: middle;\n",
       "    }\n",
       "\n",
       "    .dataframe tbody tr th {\n",
       "        vertical-align: top;\n",
       "    }\n",
       "\n",
       "    .dataframe thead th {\n",
       "        text-align: right;\n",
       "    }\n",
       "</style>\n",
       "<table border=\"1\" class=\"dataframe\">\n",
       "  <thead>\n",
       "    <tr style=\"text-align: right;\">\n",
       "      <th></th>\n",
       "      <th>Model</th>\n",
       "      <th>Train Loss</th>\n",
       "      <th>Test Loss</th>\n",
       "      <th>Train MAE</th>\n",
       "      <th>Test MAE</th>\n",
       "      <th>Train R2</th>\n",
       "      <th>Test R2</th>\n",
       "      <th>Train RMSE</th>\n",
       "      <th>Test RMSE</th>\n",
       "    </tr>\n",
       "  </thead>\n",
       "  <tbody>\n",
       "    <tr>\n",
       "      <th>0</th>\n",
       "      <td>BiLSTM</td>\n",
       "      <td>912.826843</td>\n",
       "      <td>883.104004</td>\n",
       "      <td>21.436817</td>\n",
       "      <td>21.071341</td>\n",
       "      <td>-0.000608</td>\n",
       "      <td>-0.000128</td>\n",
       "      <td>30.213032</td>\n",
       "      <td>29.717069</td>\n",
       "    </tr>\n",
       "    <tr>\n",
       "      <th>1</th>\n",
       "      <td>Transformer</td>\n",
       "      <td>30.637495</td>\n",
       "      <td>37.089157</td>\n",
       "      <td>3.880802</td>\n",
       "      <td>4.173428</td>\n",
       "      <td>0.633269</td>\n",
       "      <td>0.578935</td>\n",
       "      <td>5.535115</td>\n",
       "      <td>6.090087</td>\n",
       "    </tr>\n",
       "    <tr>\n",
       "      <th>2</th>\n",
       "      <td>CNN+LSTM</td>\n",
       "      <td>918.427429</td>\n",
       "      <td>887.059998</td>\n",
       "      <td>21.595516</td>\n",
       "      <td>21.188902</td>\n",
       "      <td>-0.005682</td>\n",
       "      <td>-0.005198</td>\n",
       "      <td>30.305560</td>\n",
       "      <td>29.783553</td>\n",
       "    </tr>\n",
       "    <tr>\n",
       "      <th>3</th>\n",
       "      <td>Autoencoder</td>\n",
       "      <td>15074.257812</td>\n",
       "      <td>15137.869141</td>\n",
       "      <td>93.154800</td>\n",
       "      <td>93.682907</td>\n",
       "      <td>-13.564003</td>\n",
       "      <td>-15.140273</td>\n",
       "      <td>122.777329</td>\n",
       "      <td>123.036036</td>\n",
       "    </tr>\n",
       "    <tr>\n",
       "      <th>4</th>\n",
       "      <td>XGBoost</td>\n",
       "      <td>1.757378</td>\n",
       "      <td>20.038919</td>\n",
       "      <td>0.813013</td>\n",
       "      <td>2.337092</td>\n",
       "      <td>0.995407</td>\n",
       "      <td>0.965647</td>\n",
       "      <td>1.325661</td>\n",
       "      <td>4.476485</td>\n",
       "    </tr>\n",
       "  </tbody>\n",
       "</table>\n",
       "</div>"
      ],
      "text/plain": [
       "         Model    Train Loss     Test Loss  Train MAE   Test MAE   Train R2  \\\n",
       "0       BiLSTM    912.826843    883.104004  21.436817  21.071341  -0.000608   \n",
       "1  Transformer     30.637495     37.089157   3.880802   4.173428   0.633269   \n",
       "2     CNN+LSTM    918.427429    887.059998  21.595516  21.188902  -0.005682   \n",
       "3  Autoencoder  15074.257812  15137.869141  93.154800  93.682907 -13.564003   \n",
       "4      XGBoost      1.757378     20.038919   0.813013   2.337092   0.995407   \n",
       "\n",
       "     Test R2  Train RMSE   Test RMSE  \n",
       "0  -0.000128   30.213032   29.717069  \n",
       "1   0.578935    5.535115    6.090087  \n",
       "2  -0.005198   30.305560   29.783553  \n",
       "3 -15.140273  122.777329  123.036036  \n",
       "4   0.965647    1.325661    4.476485  "
      ]
     },
     "execution_count": 64,
     "metadata": {},
     "output_type": "execute_result"
    }
   ],
   "source": [
    "results_df = pd.DataFrame(results)\n",
    "results_df"
   ]
  },
  {
   "cell_type": "code",
   "execution_count": 63,
   "id": "1b6ff47a",
   "metadata": {},
   "outputs": [
    {
     "data": {
      "image/png": "[encoded data removed]",
      "text/plain": [
       "<Figure size 1000x500 with 1 Axes>"
      ]
     },
     "metadata": {},
     "output_type": "display_data"
    },
    {
     "data": {
      "image/png": "[encoded data removed]",
      "text/plain": [
       "<Figure size 1000x500 with 1 Axes>"
      ]
     },
     "metadata": {},
     "output_type": "display_data"
    },
    {
     "data": {
      "image/png": "[encoded data removed]",
      "text/plain": [
       "<Figure size 1000x500 with 1 Axes>"
      ]
     },
     "metadata": {},
     "output_type": "display_data"
    },
    {
     "data": {
      "image/png": "[encoded data removed]",
      "text/plain": [
       "<Figure size 1000x500 with 1 Axes>"
      ]
     },
     "metadata": {},
     "output_type": "display_data"
    }
   ],
   "source": [
    "import matplotlib.pyplot as plt\n",
    "import seaborn as sns\n",
    "import pandas as pd\n",
    "\n",
    "# Convert to DataFrame if not already\n",
    "results_df = pd.DataFrame(results)\n",
    "\n",
    "# Round for cleaner display\n",
    "results_df_rounded = results_df.round(4)\n",
    "\n",
    "# Plot function\n",
    "def plot_metric_pair(df, train_metric, test_metric, title):\n",
    "    melted_df = df[['Model', train_metric, test_metric]].melt(id_vars='Model', var_name='Dataset', value_name='Value')\n",
    "\n",
    "    plt.figure(figsize=(10, 5))\n",
    "    sns.barplot(data=melted_df, x='Model', y='Value', hue='Dataset')\n",
    "    plt.title(title)\n",
    "    plt.xticks(rotation=45)\n",
    "    plt.tight_layout()\n",
    "    plt.grid(True)\n",
    "    plt.show()\n",
    "\n",
    "# 🔢 Plotting all relevant metric pairs\n",
    "plot_metric_pair(results_df_rounded, 'Train Loss', 'Test Loss', 'Train vs Test Loss')\n",
    "plot_metric_pair(results_df_rounded, 'Train MAE', 'Test MAE', 'Train vs Test MAE')\n",
    "plot_metric_pair(results_df_rounded, 'Train RMSE', 'Test RMSE', 'Train vs Test RMSE')\n",
    "plot_metric_pair(results_df_rounded, 'Train R2', 'Test R2', 'Train vs Test R² Score')\n"
   ]
  },
  {
   "cell_type": "code",
   "execution_count": null,
   "id": "d6036d88",
   "metadata": {},
   "outputs": [],
   "source": []
  },
  {
   "cell_type": "code",
   "execution_count": null,
   "id": "f52ba031",
   "metadata": {},
   "outputs": [],
   "source": []
  }
 ],
 "metadata": {
  "kernelspec": {
   "display_name": "venv",
   "language": "python",
   "name": "python3"
  },
  "language_info": {
   "codemirror_mode": {
    "name": "ipython",
    "version": 3
   },
   "file_extension": ".py",
   "mimetype": "text/x-python",
   "name": "python",
   "nbconvert_exporter": "python",
   "pygments_lexer": "ipython3",
   "version": "3.10.7"
  }
 },
 "nbformat": 4,
 "nbformat_minor": 5
}
